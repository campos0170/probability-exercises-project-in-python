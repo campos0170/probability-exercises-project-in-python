{
 "cells": [
  {
   "cell_type": "markdown",
   "id": "a41f3622",
   "metadata": {},
   "source": [
    "# Probability exercises"
   ]
  },
  {
   "cell_type": "markdown",
   "id": "a6bdbd89",
   "metadata": {},
   "source": [
    "## Exercise 1 \n",
    "\n",
    "Two dices are thrown once and the total score is observed. Use a simulation to find the estimated probability that the total score is even or greater than 7.  A simulation is a repetition of the same experiment multiple times to observe its behavior:\n",
    "\n",
    "- Run the experiment 1000 times (roll 2 dice 1000 times, and sum the number of both dices).\n",
    "- Keep track of the number of times that the sum was either greater than 7 or an even number.\n",
    "- Divide the number from step 2 by the number of iterations (1000)."
   ]
  },
  {
   "cell_type": "code",
   "execution_count": 1,
   "id": "8939d892",
   "metadata": {},
   "outputs": [
    {
     "name": "stdout",
     "output_type": "stream",
     "text": [
      "Estimated probability: 0.6970\n"
     ]
    }
   ],
   "source": [
    "import numpy as np\n",
    "\n",
    "# Number of simulations\n",
    "num_simulations = 1000\n",
    "\n",
    "# Simulate rolling two dice 1000 times\n",
    "dice_1 = np.random.randint(1, 7, size=num_simulations)\n",
    "dice_2 = np.random.randint(1, 7, size=num_simulations)\n",
    "\n",
    "# Calculate the total score for each roll\n",
    "total_scores = dice_1 + dice_2\n",
    "\n",
    "# Check for scores that are either even or greater than 7\n",
    "condition_met = (total_scores % 2 == 0) | (total_scores > 7)\n",
    "\n",
    "# Count the number of favorable outcomes\n",
    "favorable_outcomes = np.sum(condition_met)\n",
    "\n",
    "# Estimate the probability\n",
    "estimated_probability = favorable_outcomes / num_simulations\n",
    "\n",
    "print(f\"Estimated probability: {estimated_probability:.4f}\")\n"
   ]
  },
  {
   "cell_type": "markdown",
   "id": "55732bca",
   "metadata": {},
   "source": [
    "## Exercise 2\n",
    "\n",
    "A box contains 10 white balls, 20 red balls and 30 green balls. If we take 5 balls from the box with replacement (we take the ball, observe what color it is and put it back into the box). We want to know the probability of:\n",
    "\n",
    "1. Take 3 white and 2 red.\n",
    "2. Take all of the same color.\n",
    "\n",
    "Run the experiment 1000 times and calculate the above probabilities."
   ]
  },
  {
   "cell_type": "code",
   "execution_count": 1,
   "id": "23244d20",
   "metadata": {},
   "outputs": [
    {
     "name": "stdout",
     "output_type": "stream",
     "text": [
      "Probability of 3 white and 2 red balls: 0.0070\n",
      "Probability of all balls being the same color: 0.0280\n"
     ]
    }
   ],
   "source": [
    "import numpy as np\n",
    "\n",
    "# Define the experiment parameters\n",
    "num_simulations = 1000\n",
    "num_draws = 5\n",
    "\n",
    "# Define the probabilities for each color\n",
    "white_prob = 10 / 60  # Probability of drawing a white ball\n",
    "red_prob = 20 / 60    # Probability of drawing a red ball\n",
    "green_prob = 30 / 60  # Probability of drawing a green ball\n",
    "color_probs = [white_prob, red_prob, green_prob]\n",
    "\n",
    "# Map color indices to colors\n",
    "colors = ['white', 'red', 'green']\n",
    "\n",
    "# Initialize counters for the desired outcomes\n",
    "count_3_white_2_red = 0\n",
    "count_all_same_color = 0\n",
    "\n",
    "# Simulate the experiment\n",
    "for _ in range(num_simulations):\n",
    "    draws = np.random.choice(colors, size=num_draws, p=color_probs)  # Draw balls\n",
    "    unique_counts = {color: np.sum(draws == color) for color in colors}\n",
    "    \n",
    "    # Check for 3 white and 2 red\n",
    "    if unique_counts.get('white', 0) == 3 and unique_counts.get('red', 0) == 2:\n",
    "        count_3_white_2_red += 1\n",
    "    \n",
    "    # Check if all balls are of the same color\n",
    "    if len(set(draws)) == 1:\n",
    "        count_all_same_color += 1\n",
    "\n",
    "# Calculate probabilities\n",
    "prob_3_white_2_red = count_3_white_2_red / num_simulations\n",
    "prob_all_same_color = count_all_same_color / num_simulations\n",
    "\n",
    "# Display results\n",
    "print(f\"Probability of 3 white and 2 red balls: {prob_3_white_2_red:.4f}\")\n",
    "print(f\"Probability of all balls being the same color: {prob_all_same_color:.4f}\")\n",
    "\n",
    "\n"
   ]
  },
  {
   "cell_type": "code",
   "execution_count": null,
   "id": "879b4a0e",
   "metadata": {},
   "outputs": [],
   "source": []
  }
 ],
 "metadata": {
  "kernelspec": {
   "display_name": "Python 3",
   "language": "python",
   "name": "python3"
  },
  "language_info": {
   "codemirror_mode": {
    "name": "ipython",
    "version": 3
   },
   "file_extension": ".py",
   "mimetype": "text/x-python",
   "name": "python",
   "nbconvert_exporter": "python",
   "pygments_lexer": "ipython3",
   "version": "3.11.4"
  }
 },
 "nbformat": 4,
 "nbformat_minor": 5
}
